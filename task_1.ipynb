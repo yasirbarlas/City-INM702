{
 "cells": [
  {
   "cell_type": "markdown",
   "id": "bf67fdc9",
   "metadata": {},
   "source": [
    "# INM702: Task 1\n",
    "\n",
    "This task is about classifying images of written numbers from the MNIST dataset. We develop a neural network using basic libraries such as NumPy, without resorting to ready-made functions from TensorFlow, Keras or PyTorch."
   ]
  },
  {
   "cell_type": "markdown",
   "id": "36cd5918",
   "metadata": {},
   "source": [
    "### Import Libraries and Load MNIST"
   ]
  },
  {
   "cell_type": "code",
   "execution_count": 4,
   "id": "f33bf4ef",
   "metadata": {},
   "outputs": [],
   "source": [
    "# Import libraries\n",
    "import numpy as np\n",
    "import pandas as pd\n",
    "import matplotlib.pyplot as plt\n",
    "\n",
    "# Use TensorFlow to load MNIST (easy method)\n",
    "import tensorflow.keras.datasets.mnist as mnist\n",
    "\n",
    "(x_train, y_train), (x_test, y_test) = mnist.load_data()"
   ]
  },
  {
   "cell_type": "markdown",
   "id": "12f4f225",
   "metadata": {},
   "source": [
    "### Sigmoid, ReLU and Softmax"
   ]
  },
  {
   "cell_type": "code",
   "execution_count": 23,
   "id": "264e4a6c",
   "metadata": {},
   "outputs": [],
   "source": [
    "def sigmoid(x):\n",
    "    return 1.0 / (1.0 + np.exp(-x))\n",
    "\n",
    "def d_sigmoid(x):\n",
    "    return sigmoid(x) * (1.0 - sigmoid(x))\n",
    "\n",
    "def relu(x):\n",
    "    return max(0.0, x)\n",
    "\n",
    "def d_relu(x):\n",
    "    return (x >= 0)\n",
    "\n",
    "def softmax(vec):\n",
    "    return np.exp(vec) / sum(np.exp(vec))"
   ]
  }
 ],
 "metadata": {
  "kernelspec": {
   "display_name": "Python 3 (ipykernel)",
   "language": "python",
   "name": "python3"
  },
  "language_info": {
   "codemirror_mode": {
    "name": "ipython",
    "version": 3
   },
   "file_extension": ".py",
   "mimetype": "text/x-python",
   "name": "python",
   "nbconvert_exporter": "python",
   "pygments_lexer": "ipython3",
   "version": "3.10.13"
  }
 },
 "nbformat": 4,
 "nbformat_minor": 5
}
