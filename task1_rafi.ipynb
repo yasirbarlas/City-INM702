{
 "cells": [
  {
   "cell_type": "code",
   "execution_count": 1,
   "metadata": {},
   "outputs": [],
   "source": [
    "import numpy as np\n"
   ]
  },
  {
   "attachments": {
    "image-2.png": {
     "image/png": "[encoded data removed]"
    },
    "image.png": {
     "image/png": "[encoded data removed]"
    }
   },
   "cell_type": "markdown",
   "metadata": {},
   "source": [
    "## Sigmoid\n",
    "\n",
    "- Forward pass\n",
    "\n",
    "\n",
    "![image.png](attachment:image.png)\n",
    "\n",
    "- Backward pass\n",
    "\n",
    "\n",
    "![image-2.png](attachment:image-2.png)"
   ]
  },
  {
   "cell_type": "code",
   "execution_count": 2,
   "metadata": {},
   "outputs": [],
   "source": [
    "# Forward pass\n",
    "def sigmoid(x):\n",
    "    return 1/1 + np.exp(-x)\n",
    "\n",
    "\n",
    "def d_sigmoid(x):\n",
    "    return sigmoid * (1- sigmoid)"
   ]
  },
  {
   "cell_type": "markdown",
   "metadata": {},
   "source": [
    "## Relu"
   ]
  },
  {
   "cell_type": "code",
   "execution_count": 13,
   "metadata": {},
   "outputs": [],
   "source": [
    "# In Python, and specifically in NumPy, \n",
    "# when you have an array or a sequence of boolean values, the astype function is used to convert these boolean values into a different data type.\n",
    "def relu(x):\n",
    "    return x * (x >= 0), (x > 0).astype(float)\n",
    "\n"
   ]
  },
  {
   "cell_type": "markdown",
   "metadata": {},
   "source": [
    "## Softmax"
   ]
  },
  {
   "cell_type": "code",
   "execution_count": null,
   "metadata": {},
   "outputs": [],
   "source": [
    "# Softmax with derivative\n",
    "def softmax(vec):\n",
    "    s = np.exp(vec) / np.exp(vec).sum()\n",
    "    return s  #, s * (np.eye(s.size) - s.reshape(-1, 1))\n",
    "\n",
    "\n"
   ]
  },
  {
   "cell_type": "markdown",
   "metadata": {},
   "source": [
    "## Inverted Dropout\n",
    "This implementation uses “inverted dropout”, which means that the dropout mask is scaled by 1 / (1 - dropout_rate). This ensures that the expected sum of A remains the same as if no dropout was applied, allowing us to use the same forward pass during testing (with dropout_rate = 0). This is why it’s called “inverted” dropout: instead of scaling up during testing (which is what the original dropout does), we scale down during training. This is generally more convenient and efficient."
   ]
  },
  {
   "cell_type": "code",
   "execution_count": null,
   "metadata": {},
   "outputs": [],
   "source": [
    "def inverted_dropout(x, dropout_rate):\n",
    "\n",
    "      dropout_mask = (np.random.rand(*x.shape) < (1 - dropout_rate)) / (1 - dropout_rate)\n",
    "\n",
    "      x *= dropout_mask\n",
    "\n",
    "      return x\n",
    "\n"
   ]
  },
  {
   "cell_type": "markdown",
   "metadata": {},
   "source": [
    "## Neural Network\n",
    "\n",
    "You should implement a fully-connected NN class where with number of \n",
    "hidden layers, units, activation functions can be changed. In addition, you \n",
    "can add dropout or regularizer (L1 or L2).  \n",
    "Report the parameters used \n",
    "(update rule, learning rate, decay, epochs, batch size) and include the plots \n",
    "in your report"
   ]
  },
  {
   "cell_type": "code",
   "execution_count": 1,
   "metadata": {},
   "outputs": [],
   "source": [
    "class NeuralNetwork:\n",
    "\n",
    "    def __init__(self, layers_sizes ,l1,l2, activation_function, dropout_rate):\n",
    "\n",
    "\n",
    "        self.layers_sizes = layers_sizes\n",
    "        self.num_layers = len(layers_sizes)\n",
    "        self.l1 = l1\n",
    "        self.l2 = l2\n",
    "        self.activation_function = activation_function\n",
    "        self.dropout_rate = dropout_rate\n",
    "        self.parameters = self.initialise_parameters()\n",
    "\n",
    "\n",
    "\n",
    "\n",
    "        def initialise_parameters(self):\n",
    "\n",
    "            params = {}\n",
    "            for l in range(1, self.num_layers):\n",
    "                \n",
    "                params[f\"W{l}\"] = np.random.randn(self.layers_sizes, 1-self.layers_sizes)\n",
    "                params[f\"b{l}\"]= np.zeros(self.layers_sizes[l],1)\n",
    "\n",
    "            return params\n",
    "\n",
    "\n",
    "\n",
    "        \n",
    "        def inverted_dropout(self, Zl):\n",
    "            dropout_mask = (np.random.rand(*Zl.shape) < self.dropout_rate) / (1 - self.dropout_rate)\n",
    "            return dropout_mask\n",
    "    \n",
    "        def forward_pass(self,X, training=True):\n",
    "            self.dropout_masks = {}\n",
    "            cache = {\"A0\":X}\n",
    "            for l in range(1, self.num_layers):\n",
    "                Wl, bl = self.parameters[f\"W{l}\"], self.parameters[f\"b{l}\"]\n",
    "                Al_prev = cache[f\"A{l - 1}\"]\n",
    "                Zl = np.dot(Wl, Al_prev) + bl  \n",
    "\n",
    "\n",
    "                if training and l < self.num_layers - 1:\n",
    "                    dropout_mask = self.inverted_dropout(Zl)\n",
    "                    self.dropout_masks[f\"mask{l}\"] = dropout_mask\n",
    "                    Zl *= dropout_mask\n",
    "\n",
    "\n",
    "                Al = self.activation_function(Z1)[0]\n",
    "                \n",
    "\n",
    "                # Store weighted sum and activation\n",
    "                cache[f\"Z{l}\"] = Zl\n",
    "                cache[f\"A{l}\"] = Al\n",
    "\n",
    "                return Al, cache\n",
    "            \n",
    "\n",
    "        def backward_pass(self,A, Y, cache):\n",
    "\n",
    "            m = Y.shape[1] \n",
    "\n",
    "\n",
    "            gradients = {}\n",
    "\n",
    "            \n",
    "            dz = A - Y\n",
    "\n",
    "\n",
    "\n",
    "            for l in reversed(range(1,self.num_layers)):\n",
    "\n",
    "                Al_prev = cache[f\"A{l - 1}\"]\n",
    "                Wl = self.parameters[f\"W{l}\"]\n",
    "\n",
    "\n",
    "                \n",
    "                # Apply dropout during backpropagation\n",
    "                if f\"mask{l}\" in self.dropout_masks:\n",
    "                    dZ *= self.dropout_masks[f\"mask{l}\"]\n",
    "\n",
    "\n",
    "\n",
    "                    # Add weight and bias gradients to dictionary\n",
    "                gradients[f\"dW{l}\"] = np.dot(dZ, Al_prev.T) / m    #(m = normalization or averaging the gradients across the mini-batch or the entire dataset.)\n",
    "                gradients[f\"db{l}\"] = np.sum(dZ, axis = 1, keepdims = True) / m\n",
    "                \n",
    "                # Compute derivative using activation function\n",
    "                dZ = np.dot(Wl.T, dZ) * self.activation_function(Al_prev)[1]\n",
    "\n",
    "            return gradients\n",
    "            \n",
    "\n",
    "\n",
    "\n",
    "\n",
    "\n",
    "\n",
    "    \n",
    "            \n",
    "\n",
    "\n",
    "\n",
    "\n",
    "\n",
    "                      \n",
    "\n",
    "\n",
    "\n",
    "\n",
    "                \n",
    "\n",
    "\n",
    "\n",
    "\n",
    "\n",
    "        pass"
   ]
  },
  {
   "cell_type": "code",
   "execution_count": 3,
   "metadata": {},
   "outputs": [
    {
     "name": "stderr",
     "output_type": "stream",
     "text": [
      "C:\\Users\\local_adfx757\\Temp\\ipykernel_5152\\4018246832.py:2: RuntimeWarning: divide by zero encountered in log\n",
      "  np.log(0)\n"
     ]
    },
    {
     "data": {
      "text/plain": [
       "-inf"
      ]
     },
     "execution_count": 3,
     "metadata": {},
     "output_type": "execute_result"
    }
   ],
   "source": [
    "import numpy as np\n",
    "np.log(0)"
   ]
  },
  {
   "cell_type": "code",
   "execution_count": 22,
   "metadata": {},
   "outputs": [
    {
     "data": {
      "text/plain": [
       "array([1.e-15, 1.e-01, 1.e+00, 1.e+00])"
      ]
     },
     "execution_count": 22,
     "metadata": {},
     "output_type": "execute_result"
    }
   ],
   "source": [
    "\n",
    "A = np.array([0.00000000000000000001, 0.1, 1.1,1.5])\n",
    "np.clip(A, 1e-15, 1-1e-15)"
   ]
  },
  {
   "cell_type": "code",
   "execution_count": 68,
   "metadata": {},
   "outputs": [
    {
     "data": {
      "text/plain": [
       "array([3, 3, 3], dtype=int64)"
      ]
     },
     "execution_count": 68,
     "metadata": {},
     "output_type": "execute_result"
    }
   ],
   "source": [
    "a = np.array([[10, 15, 12,19],\n",
    "       [13, 14, 15,16],[16, 15, 12,19]])\n",
    "\n",
    "(np.argmax(a, axis=1))"
   ]
  },
  {
   "cell_type": "code",
   "execution_count": null,
   "metadata": {},
   "outputs": [],
   "source": []
  },
  {
   "cell_type": "code",
   "execution_count": 53,
   "metadata": {},
   "outputs": [
    {
     "data": {
      "text/plain": [
       "-0.05"
      ]
     },
     "execution_count": 53,
     "metadata": {},
     "output_type": "execute_result"
    }
   ],
   "source": [
    "0.05 * np.sign(-5)"
   ]
  },
  {
   "cell_type": "code",
   "execution_count": 54,
   "metadata": {},
   "outputs": [
    {
     "data": {
      "text/plain": [
       "-0.2"
      ]
     },
     "execution_count": 54,
     "metadata": {},
     "output_type": "execute_result"
    }
   ],
   "source": [
    "-2/10"
   ]
  },
  {
   "cell_type": "code",
   "execution_count": null,
   "metadata": {},
   "outputs": [],
   "source": []
  },
  {
   "cell_type": "code",
   "execution_count": null,
   "metadata": {},
   "outputs": [],
   "source": []
  },
  {
   "cell_type": "code",
   "execution_count": null,
   "metadata": {},
   "outputs": [],
   "source": []
  }
 ],
 "metadata": {
  "kernelspec": {
   "display_name": "Python 3",
   "language": "python",
   "name": "python3"
  },
  "language_info": {
   "codemirror_mode": {
    "name": "ipython",
    "version": 3
   },
   "file_extension": ".py",
   "mimetype": "text/x-python",
   "name": "python",
   "nbconvert_exporter": "python",
   "pygments_lexer": "ipython3",
   "version": "3.10.9"
  }
 },
 "nbformat": 4,
 "nbformat_minor": 2
}
